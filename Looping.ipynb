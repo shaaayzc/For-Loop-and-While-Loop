{
 "cells": [
  {
   "cell_type": "code",
   "execution_count": 1,
   "id": "90eb2cfb-2b9e-4b9e-bc0f-4ae1a6552a03",
   "metadata": {},
   "outputs": [
    {
     "data": {
      "text/html": [
       "<div>\n",
       "<style scoped>\n",
       "    .dataframe tbody tr th:only-of-type {\n",
       "        vertical-align: middle;\n",
       "    }\n",
       "\n",
       "    .dataframe tbody tr th {\n",
       "        vertical-align: top;\n",
       "    }\n",
       "\n",
       "    .dataframe thead th {\n",
       "        text-align: right;\n",
       "    }\n",
       "</style>\n",
       "<table border=\"1\" class=\"dataframe\">\n",
       "  <thead>\n",
       "    <tr style=\"text-align: right;\">\n",
       "      <th></th>\n",
       "      <th>rock density</th>\n",
       "      <th>seismic velocity</th>\n",
       "    </tr>\n",
       "  </thead>\n",
       "  <tbody>\n",
       "    <tr>\n",
       "      <th>0</th>\n",
       "      <td>2.60</td>\n",
       "      <td>4.2</td>\n",
       "    </tr>\n",
       "    <tr>\n",
       "      <th>1</th>\n",
       "      <td>2.65</td>\n",
       "      <td>4.5</td>\n",
       "    </tr>\n",
       "    <tr>\n",
       "      <th>2</th>\n",
       "      <td>2.70</td>\n",
       "      <td>4.7</td>\n",
       "    </tr>\n",
       "    <tr>\n",
       "      <th>3</th>\n",
       "      <td>2.75</td>\n",
       "      <td>4.9</td>\n",
       "    </tr>\n",
       "    <tr>\n",
       "      <th>4</th>\n",
       "      <td>2.80</td>\n",
       "      <td>5.0</td>\n",
       "    </tr>\n",
       "  </tbody>\n",
       "</table>\n",
       "</div>"
      ],
      "text/plain": [
       "   rock density  seismic velocity\n",
       "0          2.60               4.2\n",
       "1          2.65               4.5\n",
       "2          2.70               4.7\n",
       "3          2.75               4.9\n",
       "4          2.80               5.0"
      ]
     },
     "execution_count": 1,
     "metadata": {},
     "output_type": "execute_result"
    }
   ],
   "source": [
    "import pandas as pd\n",
    "\n",
    "petrophy={'rock density'  :[2.60, 2.65, 2.70, 2.75, 2.80],\n",
    "         'seismic velocity' :[4.2, 4.5, 4.7, 4.9, 5.0]}\n",
    "petro_df=pd.DataFrame(petrophy)\n",
    "petro_df"
   ]
  },
  {
   "cell_type": "code",
   "execution_count": 3,
   "id": "da9474f0-41f7-43c8-bd9a-088e934e5053",
   "metadata": {},
   "outputs": [
    {
     "name": "stdout",
     "output_type": "stream",
     "text": [
      "Sum of x: 13.5\n",
      "Sum of x^2 : 36.475\n"
     ]
    }
   ],
   "source": [
    "#soal 1\n",
    "import numpy as np\n",
    "import math\n",
    "\n",
    "#menghitung mean dengan for loop\n",
    "X=np.array(petro_df['rock density'])\n",
    "y=np.array(petro_df['seismic velocity'])\n",
    "N_data=len(X)\n",
    "\n",
    "n=0\n",
    "sum_x=0\n",
    "sum_x2=0\n",
    "\n",
    "for n in range (N_data):\n",
    "    x= X[n]\n",
    "    sum_x +=x\n",
    "    sum_x2 += x**2\n",
    "\n",
    "print(f\"Sum of x: {sum_x}\")\n",
    "print(f\"Sum of x^2 : {sum_x2}\")"
   ]
  },
  {
   "cell_type": "code",
   "execution_count": 5,
   "id": "d3f40e53-86d9-4b15-bdf5-d47ef5f4770d",
   "metadata": {},
   "outputs": [
    {
     "name": "stdout",
     "output_type": "stream",
     "text": [
      "_______________________________________________\n",
      "Mean of density is 2.70 g/cc\n",
      "Standard deviation of Density is 0.08 g/cc\n"
     ]
    }
   ],
   "source": [
    "#menghitung standar deviasi dengan for loop\n",
    "mean_x = sum_x / N_data\n",
    "std_dev = math.sqrt((N_data * sum_x2 - sum_x ** 2) / (N_data * (N_data-1)))\n",
    "\n",
    "print('_______________________________________________')\n",
    "print(f'Mean of density is {mean_x:.2f} g/cc')\n",
    "print(f'Standard deviation of Density is {std_dev:.2f} g/cc')"
   ]
  },
  {
   "cell_type": "code",
   "execution_count": 7,
   "id": "779b1d15-6711-46e3-91cd-97270343607a",
   "metadata": {},
   "outputs": [
    {
     "name": "stdout",
     "output_type": "stream",
     "text": [
      "Sum of y: 23.299999999999997\n",
      "Sum of y^2 : 108.99000000000001\n"
     ]
    }
   ],
   "source": [
    "#soal 2\n",
    "#menghitung mean seismic velocity dengan while loop\n",
    "\n",
    "Y=np.array(petro_df['seismic velocity'])\n",
    "\n",
    "n = 0\n",
    "sum_y = 0\n",
    "sum_y2 = 0\n",
    "\n",
    "while n < N_data:\n",
    "    y = Y[n]\n",
    "    sum_y += y\n",
    "    sum_y2 += y**2\n",
    "    n += 1\n",
    "\n",
    "print(f\"Sum of y: {sum_y}\")\n",
    "print(f\"Sum of y^2 : {sum_y2}\")"
   ]
  },
  {
   "cell_type": "code",
   "execution_count": 9,
   "id": "9b6b5d56-2650-43d2-9fb1-3d6e54a2f6d0",
   "metadata": {},
   "outputs": [
    {
     "name": "stdout",
     "output_type": "stream",
     "text": [
      "_______________________________________________\n",
      "Mean of seismic velocity is 4.66 km/s\n",
      "Standard deviation of seismic velocity is 0.32 km/s\n"
     ]
    }
   ],
   "source": [
    "#menghitung standar deviasi seismic velocity dengan while loop\n",
    "mean_y = sum_y / N_data\n",
    "std_dev = math.sqrt((N_data * sum_y2 - sum_y ** 2) / (N_data * (N_data-1)))\n",
    "\n",
    "print('_______________________________________________')\n",
    "print(f'Mean of seismic velocity is {mean_y:.2f} km/s')\n",
    "print(f'Standard deviation of seismic velocity is {std_dev:.2f} km/s')\n"
   ]
  },
  {
   "cell_type": "code",
   "execution_count": 13,
   "id": "f3933d41-61ee-40ff-8021-24252810266c",
   "metadata": {},
   "outputs": [
    {
     "name": "stdout",
     "output_type": "stream",
     "text": [
      "Sum of y: 23.299999999999997\n",
      "Sum of y^2 : 108.99000000000001\n"
     ]
    }
   ],
   "source": [
    "#soal 3\n",
    "#menghitung mean dengan for loop\n",
    "\n",
    "Y=np.array(petro_df['seismic velocity'])\n",
    "N_data=len(X)\n",
    "\n",
    "n=0\n",
    "sum_y=0\n",
    "sum_y2=0\n",
    "\n",
    "for n in range (N_data):\n",
    "    y= Y[n]\n",
    "    sum_y +=y\n",
    "    sum_y2 += y**2\n",
    "\n",
    "print(f\"Sum of y: {sum_y}\")\n",
    "print(f\"Sum of y^2 : {sum_y2}\")"
   ]
  },
  {
   "cell_type": "code",
   "execution_count": 19,
   "id": "4b76c7dc-02ec-4381-a1e0-3ca043d767c0",
   "metadata": {},
   "outputs": [
    {
     "name": "stdout",
     "output_type": "stream",
     "text": [
      "_______________________________________________\n",
      "Mean of seismic velocity is 4.66 km/s\n",
      "Standard deviation of seismic velocity is 0.32 km/s\n"
     ]
    }
   ],
   "source": [
    "#menghitung standar deviasi dengan for loop\n",
    "mean_y = sum_y / N_data\n",
    "std_dev = math.sqrt((N_data * sum_y2 - sum_y ** 2) / (N_data * (N_data-1)))\n",
    "\n",
    "print('_______________________________________________')\n",
    "print(f'Mean of seismic velocity is {mean_y:.2f} km/s')\n",
    "print(f'Standard deviation of seismic velocity is {std_dev:.2f} km/s')"
   ]
  },
  {
   "cell_type": "code",
   "execution_count": null,
   "id": "9ac4deda-3d1c-45b1-94ac-03e603563c10",
   "metadata": {},
   "outputs": [],
   "source": []
  }
 ],
 "metadata": {
  "kernelspec": {
   "display_name": "Python 3 (ipykernel)",
   "language": "python",
   "name": "python3"
  },
  "language_info": {
   "codemirror_mode": {
    "name": "ipython",
    "version": 3
   },
   "file_extension": ".py",
   "mimetype": "text/x-python",
   "name": "python",
   "nbconvert_exporter": "python",
   "pygments_lexer": "ipython3",
   "version": "3.12.4"
  }
 },
 "nbformat": 4,
 "nbformat_minor": 5
}
